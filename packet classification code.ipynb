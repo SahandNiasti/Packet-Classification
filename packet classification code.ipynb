{
 "cells": [
  {
   "cell_type": "markdown",
   "metadata": {},
   "source": [
    "# Packet Classification for Mobile Applications\n",
    "\n",
    "*Author : Mahsa Dinarvand*"
   ]
  },
  {
   "cell_type": "markdown",
   "metadata": {},
   "source": [
    "![image](https://gdpr.report/wp-content/uploads/2019/08/media-998990_1280-1-e1567164854224-635x360.jpg)"
   ]
  },
  {
   "cell_type": "markdown",
   "metadata": {},
   "source": [
    "# 1- Importing Libraries"
   ]
  },
  {
   "cell_type": "code",
   "execution_count": 1,
   "metadata": {},
   "outputs": [
    {
     "name": "stdout",
     "output_type": "stream",
     "text": [
      "Requirement already satisfied: fastdtw in c:\\users\\sahand\\anaconda3\\lib\\site-packages (0.3.4)\n",
      "Requirement already satisfied: numpy in c:\\users\\sahand\\anaconda3\\lib\\site-packages (from fastdtw) (1.18.1)\n"
     ]
    }
   ],
   "source": [
    "import time\n",
    "import matplotlib.pyplot as plt\n",
    "%matplotlib inline\n",
    "import numpy as np\n",
    "import pandas as pd\n",
    "!pip install fastdtw\n",
    "from fastdtw import fastdtw\n",
    "from scipy.cluster.hierarchy import linkage, dendrogram, fcluster\n",
    "\n",
    "from sklearn.ensemble import RandomForestClassifier\n",
    "from sklearn import svm\n",
    "from sklearn.metrics import precision_recall_fscore_support, confusion_matrix\n",
    "from sklearn.model_selection import train_test_split"
   ]
  },
  {
   "cell_type": "markdown",
   "metadata": {},
   "source": [
    "# 2- Clustering"
   ]
  },
  {
   "cell_type": "markdown",
   "metadata": {},
   "source": [
    "## 2-1- Functions"
   ]
  },
  {
   "cell_type": "code",
   "execution_count": 2,
   "metadata": {},
   "outputs": [],
   "source": [
    "def load_raw_data(path):\n",
    "    \"\"\"\n",
    "    Loads the dataset using Pandas\n",
    "    We just need some of the columns, for clusering purposes we just need 'packets_length_total',\n",
    "    the others are needed to link flows to their respective actions\n",
    "    parameters:\n",
    "    path: dataset path\n",
    "    \n",
    "    return:\n",
    "    list of flows,\n",
    "    \"\"\"\n",
    "    df = pd.read_csv(path)\n",
    "    # extracting useful data\n",
    "    data = df.loc[ENV_STARTING_INDEX:ENV_LAST_INDEX, [\"action_start\", \"packets_length_total\", \"action\"]].values\n",
    "    # converting flows to actual lists\n",
    "\n",
    "    return [_str_to_list(row[1]) for row in data], data[:, [0, 2]]\n"
   ]
  },
  {
   "cell_type": "code",
   "execution_count": 3,
   "metadata": {},
   "outputs": [],
   "source": [
    "def _str_to_list(s):\n",
    "    \"\"\"\n",
    "    This functions expects strings in the form of s = '[n1, n2, ...]'\n",
    "    as loaded from the original dataset. With these kind of variables\n",
    "    we have that s[0] is '[' while we want it to be n1.\n",
    "    To make them useful i need to convert them to actual lists.\n",
    "    parameters:\n",
    "    s: list-looking-like string\n",
    "    \n",
    "    return: \n",
    "    the actual list represented by the string\n",
    "    \"\"\"\n",
    "    return [int(sub.replace(\"[\", \"\").replace(\"]\", \"\")) for sub in s.split(\",\")]\n"
   ]
  },
  {
   "cell_type": "code",
   "execution_count": 4,
   "metadata": {},
   "outputs": [],
   "source": [
    "# manhattan distance\n",
    "def _abs(x1, x2):\n",
    "    \"\"\"\n",
    "    function used by DTW, it's just the absolute value of the difference\n",
    "    also known as cityblock distance or manhattan distance\n",
    "    parameters:\n",
    "    x1: first element\n",
    "    x2: second element\n",
    "    \n",
    "    return:\n",
    "    absolute value of x1-x2\n",
    "    \"\"\"\n",
    "    return abs(x1 - x2)"
   ]
  },
  {
   "cell_type": "code",
   "execution_count": 5,
   "metadata": {},
   "outputs": [],
   "source": [
    "\n",
    "def cdm(flows, dist_func=_abs):\n",
    "    \"\"\"\n",
    "    building the Condensed Distance Matrix (CDM).\n",
    "    \n",
    "    parameters:\n",
    "    flows: the list of flows loaded from the dataset\n",
    "    dist_func: the dist function that will be passed to DTW\n",
    "    \n",
    "    return:\n",
    "    a CDM, ideally every entry (i, j) contains dtw(i, j)\n",
    "    \"\"\"\n",
    "    return [fastdtw(flows[i], flows[j], dist=dist_func)[0]\n",
    "            for i in range(N_FLOWS)\n",
    "            for j in range(i + 1, N_FLOWS)]"
   ]
  },
  {
   "cell_type": "code",
   "execution_count": 6,
   "metadata": {},
   "outputs": [],
   "source": [
    "def clustering(cdm, linkage_metric=\"average\"):\n",
    "    # cdm: precomputed condensed distance matrix\n",
    "    # memory issues for large number of flows\n",
    "    Z = linkage(cdm, method=linkage_metric)\n",
    "    return fcluster(Z, N_CLUSTERS, criterion='maxclust')\n"
   ]
  },
  {
   "cell_type": "code",
   "execution_count": 7,
   "metadata": {},
   "outputs": [],
   "source": [
    "def prepare_samples(clusters, data):\n",
    "    \"\"\"\n",
    "    parameters:\n",
    "    clusters: the output of `clustering`, its length is N_FLOWS, each entry has a value\n",
    "    in [1, N_CLUSTERS] which denotes the cluster assigned to the i-th entry (or flow).\n",
    "    data: data containing \"action ids\" and action labels, the i-th entry of data contains the action_label\n",
    "    and \"action id\" of the i-th entry of `clusters`. It is needed to link flows to their actions.\n",
    "    \n",
    "    return:\n",
    "    samples, action representation using clustering info, read comments for more info.\n",
    "    \"\"\"\n",
    "    samples = []\n",
    "    features = np.zeros(N_CLUSTERS)\n",
    "\n",
    "    # settings these two values allows me not to check for None values\n",
    "    prev_action_id = data[0][0]\n",
    "    prev_action_label = data[0][1]\n",
    "\n",
    "    for idx, row in enumerate(data):\n",
    "        # saving current action_{label, id}\n",
    "        cur_action_id = row[0]\n",
    "        cur_action_label = row[1]\n",
    "        if prev_action_id != cur_action_id:\n",
    "            # if we just passed to a new action\n",
    "            # we have to save the current features and reset\n",
    "            # save data retrieved till now (action, features)\n",
    "            samples.append((prev_action_label, features))\n",
    "            # reset features for next action\n",
    "            features = np.zeros(N_CLUSTERS)\n",
    "\n",
    "        # res[idx] = cluster associated with the idx-th flow\n",
    "        # features[res[idx]] number of elements in the res[idx]-th cluster for this action\n",
    "        # NB: clusters are numbered starting from 1, so we need res[idx] to be res[idx]-1  when used as index\n",
    "        features[clusters[idx] - 1] += 1\n",
    "\n",
    "        # updating\n",
    "        prev_action_label = cur_action_label\n",
    "        prev_action_id = cur_action_id\n",
    "\n",
    "        if idx+1 == N_FLOWS:\n",
    "            # no more flows to analyze\n",
    "            # saving this one\n",
    "            samples.append((prev_action_label, features))\n",
    "\n",
    "    return samples\n"
   ]
  },
  {
   "cell_type": "code",
   "execution_count": 8,
   "metadata": {},
   "outputs": [],
   "source": [
    "def save_dataset(samples):\n",
    "    \"\"\"\n",
    "    Function that actually saves the dataset and adds the headers to it, basically converts a numpy array to a csv file.\n",
    "    \n",
    "    parameters: \n",
    "    samples: output of `prepare_samples`, a list of samples (actions) with |N_CLUSTERS| integer features plus\n",
    "    the \"target\" being the action label.\n",
    "    \n",
    "    return:\n",
    "    None\n",
    "    \"\"\"\n",
    "    # writing dataset to csv file\n",
    "    with open('./{}_dataset_{}.csv'.format(app_name, N_CLUSTERS), 'w') as f:\n",
    "        # building headers\n",
    "        # C1, C2,..., Cn, action\n",
    "        headers = \"\"\n",
    "        for i in range(N_CLUSTERS):\n",
    "            headers += \"C{},\".format(i + 1)\n",
    "        headers += \"action\\n\"\n",
    "        f.write(headers)\n",
    "\n",
    "        # data rows\n",
    "        # first clusters, then action label\n",
    "        # row[0] = action label\n",
    "        # row[1] = list of cluters (features)\n",
    "        for row in samples:\n",
    "            for c in row[1]:\n",
    "                f.write(\"{},\".format(int(c)))\n",
    "            f.write(\"\\\"{}\\\"\\n\".format(row[0]))"
   ]
  },
  {
   "cell_type": "markdown",
   "metadata": {},
   "source": [
    "## 2-2- Code execution"
   ]
  },
  {
   "cell_type": "code",
   "execution_count": 12,
   "metadata": {},
   "outputs": [],
   "source": [
    "apps_flows = dict(facebook=(0, 9829), twitter=(50319, 60742), gmail=(86578, 96501), gplus=(96502, 107293),\n",
    "               tumblr=(129973, 140532), dropbox=(186675, 196682), evernote=(235137, 246620))"
   ]
  },
  {
   "cell_type": "code",
   "execution_count": 17,
   "metadata": {},
   "outputs": [],
   "source": [
    "\n",
    "N_CLUSTERS = 250  # --> 250 seems to be optimal\n",
    "PATH = \"./apps_total_plus_filtered.csv\"\n",
    "\n",
    "    # F: flows loaded from dataset\n",
    "    # D: F but with more features, needed later\n",
    "    # X: condensed distance matrix (upper triangular matrix)\n",
    "    # C: list with cluster assignments for each flow in D\n",
    "\n",
    "apps = ['facebook','gmail','dropbox','twitter','tumblr','gplus','evernote']    \n",
    "# it take a considerable amount of time to run each cdm. so, it would definitely\n",
    "#last ages to run in a loop . as a result, please choose each\n",
    "# app separately to receive a clustering batch\n",
    "\n",
    "app_name = \"facebook\" # change the app name manually\n",
    "ENV_STARTING_INDEX = 0 #apps_flows[app_name][0]\n",
    "ENV_LAST_INDEX =  10 #apps_flows[app_name][1]\n",
    "\n",
    "F, D = load_raw_data(path=PATH)\n",
    "N_FLOWS = len(F)"
   ]
  },
  {
   "cell_type": "code",
   "execution_count": 18,
   "metadata": {},
   "outputs": [
    {
     "name": "stdout",
     "output_type": "stream",
     "text": [
      "Building CDM... \n",
      " It took 0.081s to build a condensed distance matrix]\n"
     ]
    }
   ],
   "source": [
    "start_time = time.time()\n",
    "\n",
    "print(\"Building CDM... \")\n",
    "X = cdm(flows=F, dist_func=_abs)\n",
    "    \n",
    "print(\" It took {:.3f}s to build a condensed distance matrix]\".format(time.time() - start_time))"
   ]
  },
  {
   "cell_type": "code",
   "execution_count": 192,
   "metadata": {},
   "outputs": [],
   "source": [
    "#Clustering and Linking\n",
    "C = clustering(cdm=X, linkage_metric=\"average\")\n",
    "\n",
    "# Creating Dataset\n",
    "dataset = prepare_samples(clusters=C, data=D)\n",
    "\n",
    "#Saving Dataset\n",
    "save_dataset(dataset)"
   ]
  },
  {
   "cell_type": "markdown",
   "metadata": {},
   "source": [
    "# 3- Classification"
   ]
  },
  {
   "cell_type": "code",
   "execution_count": 175,
   "metadata": {},
   "outputs": [
    {
     "data": {
      "text/html": [
       "<div>\n",
       "<style scoped>\n",
       "    .dataframe tbody tr th:only-of-type {\n",
       "        vertical-align: middle;\n",
       "    }\n",
       "\n",
       "    .dataframe tbody tr th {\n",
       "        vertical-align: top;\n",
       "    }\n",
       "\n",
       "    .dataframe thead th {\n",
       "        text-align: right;\n",
       "    }\n",
       "</style>\n",
       "<table border=\"1\" class=\"dataframe\">\n",
       "  <thead>\n",
       "    <tr style=\"text-align: right;\">\n",
       "      <th></th>\n",
       "      <th>precision_rf</th>\n",
       "      <th>recall_rf</th>\n",
       "      <th>f1_rf</th>\n",
       "      <th>precision_svm</th>\n",
       "      <th>recall_svm</th>\n",
       "      <th>f1_svm</th>\n",
       "    </tr>\n",
       "  </thead>\n",
       "  <tbody>\n",
       "    <tr>\n",
       "      <th>facebook</th>\n",
       "      <td>0.63</td>\n",
       "      <td>0.64</td>\n",
       "      <td>0.61</td>\n",
       "      <td>0.55</td>\n",
       "      <td>0.59</td>\n",
       "      <td>0.54</td>\n",
       "    </tr>\n",
       "    <tr>\n",
       "      <th>gmail</th>\n",
       "      <td>0.5</td>\n",
       "      <td>0.51</td>\n",
       "      <td>0.46</td>\n",
       "      <td>0.52</td>\n",
       "      <td>0.52</td>\n",
       "      <td>0.46</td>\n",
       "    </tr>\n",
       "    <tr>\n",
       "      <th>dropbox</th>\n",
       "      <td>0.59</td>\n",
       "      <td>0.6</td>\n",
       "      <td>0.57</td>\n",
       "      <td>0.52</td>\n",
       "      <td>0.6</td>\n",
       "      <td>0.55</td>\n",
       "    </tr>\n",
       "    <tr>\n",
       "      <th>twitter</th>\n",
       "      <td>0.73</td>\n",
       "      <td>0.76</td>\n",
       "      <td>0.72</td>\n",
       "      <td>0.68</td>\n",
       "      <td>0.75</td>\n",
       "      <td>0.7</td>\n",
       "    </tr>\n",
       "    <tr>\n",
       "      <th>tumblr</th>\n",
       "      <td>0.44</td>\n",
       "      <td>0.5</td>\n",
       "      <td>0.44</td>\n",
       "      <td>0.41</td>\n",
       "      <td>0.51</td>\n",
       "      <td>0.42</td>\n",
       "    </tr>\n",
       "    <tr>\n",
       "      <th>gplus</th>\n",
       "      <td>0.61</td>\n",
       "      <td>0.63</td>\n",
       "      <td>0.59</td>\n",
       "      <td>0.58</td>\n",
       "      <td>0.61</td>\n",
       "      <td>0.57</td>\n",
       "    </tr>\n",
       "    <tr>\n",
       "      <th>evernote</th>\n",
       "      <td>0.53</td>\n",
       "      <td>0.55</td>\n",
       "      <td>0.51</td>\n",
       "      <td>0.51</td>\n",
       "      <td>0.57</td>\n",
       "      <td>0.52</td>\n",
       "    </tr>\n",
       "  </tbody>\n",
       "</table>\n",
       "</div>"
      ],
      "text/plain": [
       "         precision_rf recall_rf f1_rf precision_svm recall_svm f1_svm\n",
       "facebook         0.63      0.64  0.61          0.55       0.59   0.54\n",
       "gmail             0.5      0.51  0.46          0.52       0.52   0.46\n",
       "dropbox          0.59       0.6  0.57          0.52        0.6   0.55\n",
       "twitter          0.73      0.76  0.72          0.68       0.75    0.7\n",
       "tumblr           0.44       0.5  0.44          0.41       0.51   0.42\n",
       "gplus            0.61      0.63  0.59          0.58       0.61   0.57\n",
       "evernote         0.53      0.55  0.51          0.51       0.57   0.52"
      ]
     },
     "execution_count": 175,
     "metadata": {},
     "output_type": "execute_result"
    }
   ],
   "source": [
    "apps = ['facebook','gmail','dropbox','twitter','tumblr','gplus','evernote']\n",
    "accuracy_metrics = ['precision_rf','recall_rf','f1_rf','precision_svm','recall_svm','f1_svm']\n",
    "df_apps = pd.DataFrame(data=None, columns=accuracy_metrics,index=apps)\n",
    "\n",
    "for app_name in apps: \n",
    "\n",
    "    # import dataset here\n",
    "    dataset = pd.read_csv(\"./datasets/{}_dataset_250.csv\".format(app_name)) \n",
    "    dataset.dropna(inplace=True)\n",
    "    \n",
    "    # define values as a preprocessing stage\n",
    "    n_clusters = len(dataset.columns) - 1\n",
    "    data = dataset.loc[:, \"C1\":\"C{}\".format(n_clusters)].values\n",
    "    target = dataset.loc[:, \"action\"].values\n",
    "\n",
    "    #split data into train and test\n",
    "    X_train, X_test, y_train, y_test = train_test_split(data, target,test_size= 0.2, random_state=42) \n",
    "    \n",
    "    #Random Forest\n",
    "    rfc = RandomForestClassifier(random_state=1337)\n",
    "    rfc.fit(X_train, y_train)\n",
    "    y_pred = rfc.predict(X_test)\n",
    "    \n",
    "    #weighted average app performance - Random Forest\n",
    "    prec, rec, f1, _ = precision_recall_fscore_support(y_test, y_pred, average=\"weighted\", warn_for=())\n",
    "    df_apps.loc[app_name,'precision_rf'] = round(prec,2)\n",
    "    df_apps.loc[app_name,'recall_rf'] = round(rec,2)\n",
    "    df_apps.loc[app_name,'f1_rf'] = round(f1,2)\n",
    "    \n",
    "    #SVM\n",
    "    clf = svm.SVC()\n",
    "    clf.fit(X_train, y_train)\n",
    "    y_pred = clf.predict(X_test)\n",
    "    \n",
    "    #weighted average app performance - Support Vector Machine\n",
    "    prec, rec, f1, _ = precision_recall_fscore_support(y_test, y_pred, average=\"weighted\", warn_for=())\n",
    "    df_apps.loc[app_name,'precision_svm'] = round(prec,2)\n",
    "    df_apps.loc[app_name,'recall_svm'] = round(rec,2)\n",
    "    df_apps.loc[app_name,'f1_svm'] = round(f1,2)\n",
    "    \n",
    "df_apps    \n",
    "    \n",
    "    \n",
    "    \n",
    "    "
   ]
  },
  {
   "cell_type": "code",
   "execution_count": 189,
   "metadata": {},
   "outputs": [
    {
     "data": {
      "image/png": "[encoded data removed]",
      "text/plain": [
       "<Figure size 432x288 with 1 Axes>"
      ]
     },
     "metadata": {
      "needs_background": "light"
     },
     "output_type": "display_data"
    }
   ],
   "source": [
    "# data to plot\n",
    "n_groups = 7\n",
    "f1_rf = df_apps['f1_rf']\n",
    "f1_svm = df_apps['f1_svm']\n",
    "\n",
    "# create plot\n",
    "fig, ax = plt.subplots()\n",
    "index = np.arange(n_groups)\n",
    "bar_width = 0.35\n",
    "opacity = 0.8\n",
    "\n",
    "\n",
    "rects1 = plt.bar(index, f1_rf, bar_width,\n",
    "alpha=opacity,\n",
    "color='b',\n",
    "label='F1 Random Forest')\n",
    "\n",
    "rects2 = plt.bar(index + bar_width, f1_svm, bar_width,\n",
    "alpha=opacity,\n",
    "color='g',\n",
    "label='F1 SVM')\n",
    "\n",
    "plt.xlabel('Apps')\n",
    "plt.ylabel('Accuracy')\n",
    "plt.title('F1 Accuracy comparison Between Random Forest and Support Vector Machine')\n",
    "plt.xticks(index + bar_width/2, apps)\n",
    "plt.legend()\n",
    "\n",
    "\n",
    "plt.show()"
   ]
  }
 ],
 "metadata": {
  "kernelspec": {
   "display_name": "Python 3",
   "language": "python",
   "name": "python3"
  },
  "language_info": {
   "codemirror_mode": {
    "name": "ipython",
    "version": 3
   },
   "file_extension": ".py",
   "mimetype": "text/x-python",
   "name": "python",
   "nbconvert_exporter": "python",
   "pygments_lexer": "ipython3",
   "version": "3.7.6"
  }
 },
 "nbformat": 4,
 "nbformat_minor": 2
}
